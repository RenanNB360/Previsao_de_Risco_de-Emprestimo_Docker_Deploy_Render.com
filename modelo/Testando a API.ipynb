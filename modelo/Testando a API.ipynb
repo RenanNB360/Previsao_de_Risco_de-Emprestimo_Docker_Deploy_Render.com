{
 "cells": [
  {
   "cell_type": "markdown",
   "id": "ba3b10ec-61d2-4a4f-96ca-eca9fdce8f49",
   "metadata": {},
   "source": [
    "# (Local) Docker API"
   ]
  },
  {
   "cell_type": "code",
   "execution_count": 2,
   "id": "29ea4abc-2514-4479-8104-e1784cd35997",
   "metadata": {},
   "outputs": [],
   "source": [
    "import requests"
   ]
  },
  {
   "cell_type": "code",
   "execution_count": 3,
   "id": "8eddd71c-64e5-44f3-be2e-d9b8913f8fcd",
   "metadata": {},
   "outputs": [],
   "source": [
    "url = 'http://0.0.0.0:8787/previsao/'\n",
    "query = {\n",
    "    \"SalarioAnualAplicantePrincipal\": 6950,\n",
    "    \"SalarioAnualCoAplicante\": 2358.0,\n",
    "    \"Dependentes\": False\n",
    "}"
   ]
  },
  {
   "cell_type": "code",
   "execution_count": 6,
   "id": "32111d57-e0b0-42a9-b1d0-f762e919636e",
   "metadata": {},
   "outputs": [
    {
     "name": "stdout",
     "output_type": "stream",
     "text": [
      "Resposta da API: {'message': 'Score de Risco Previsto: 163.268'}\n",
      "CPU times: user 1.12 ms, sys: 1.89 ms, total: 3.02 ms\n",
      "Wall time: 11.1 ms\n"
     ]
    }
   ],
   "source": [
    "%%time\n",
    "response = requests.post(url, json=query)\n",
    "\n",
    "# Exibindo o resultado\n",
    "if response.status_code == 200:\n",
    "    print(\"Resposta da API:\", response.json())\n",
    "else:\n",
    "    print(\"Erro:\", response.status_code, response.text)"
   ]
  },
  {
   "cell_type": "markdown",
   "id": "8a1754a4-32d9-405e-a32c-a043f2a0580a",
   "metadata": {},
   "source": [
    "# (Cloud Render.com) Docker API"
   ]
  },
  {
   "cell_type": "code",
   "execution_count": 13,
   "id": "f3faa1d3-64fc-47f2-b2ad-8d2f917418b6",
   "metadata": {},
   "outputs": [],
   "source": [
    "url = \"https://dsa-fastapi-pgff.onrender.com/previsao\"\n",
    "query = {\n",
    "    \"SalarioAnualAplicantePrincipal\": 6950,\n",
    "    \"SalarioAnualCoAplicante\": 2358.0,\n",
    "    \"Dependentes\": False\n",
    "}"
   ]
  },
  {
   "cell_type": "code",
   "execution_count": 14,
   "id": "87cbebc0-c597-48dd-8455-5cccdaf2e151",
   "metadata": {},
   "outputs": [
    {
     "name": "stdout",
     "output_type": "stream",
     "text": [
      "Resposta da API: {'message': 'Score de Risco Previsto: 163.268'}\n",
      "CPU times: user 5.9 ms, sys: 857 μs, total: 6.75 ms\n",
      "Wall time: 1.16 s\n"
     ]
    }
   ],
   "source": [
    "%%time\n",
    "response = requests.post(url, json=query)\n",
    "\n",
    "# Exibindo o resultado\n",
    "if response.status_code == 200:\n",
    "    print(\"Resposta da API:\", response.json())\n",
    "else:\n",
    "    print(\"Erro:\", response.status_code, response.text)"
   ]
  }
 ],
 "metadata": {
  "kernelspec": {
   "display_name": "Python 3 (ipykernel)",
   "language": "python",
   "name": "python3"
  },
  "language_info": {
   "codemirror_mode": {
    "name": "ipython",
    "version": 3
   },
   "file_extension": ".py",
   "mimetype": "text/x-python",
   "name": "python",
   "nbconvert_exporter": "python",
   "pygments_lexer": "ipython3",
   "version": "3.13.0"
  }
 },
 "nbformat": 4,
 "nbformat_minor": 5
}
